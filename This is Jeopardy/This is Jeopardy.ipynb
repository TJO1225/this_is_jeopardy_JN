{
 "cells": [
  {
   "cell_type": "markdown",
   "metadata": {},
   "source": [
    "# This is Jeopardy!"
   ]
  },
  {
   "cell_type": "markdown",
   "metadata": {},
   "source": [
    "#### Overview"
   ]
  },
  {
   "cell_type": "markdown",
   "metadata": {},
   "source": [
    "This project is slightly different than others you have encountered thus far. Instead of a step-by-step tutorial, this project contains a series of open-ended requirements which describe the project you'll be building. There are many possible ways to correctly fulfill all of these requirements, and you should expect to use the internet, Codecademy, and/or other resources when you encounter a problem that you cannot easily solve."
   ]
  },
  {
   "cell_type": "markdown",
   "metadata": {},
   "source": [
    "#### Project Goals"
   ]
  },
  {
   "cell_type": "markdown",
   "metadata": {},
   "source": [
    "You will work to write several functions that investigate a dataset of _Jeopardy!_ questions and answers. Filter the dataset for topics that you're interested in, compute the average difficulty of those questions, and train to become the next Jeopardy champion!"
   ]
  },
  {
   "cell_type": "markdown",
   "metadata": {},
   "source": [
    "## Prerequisites"
   ]
  },
  {
   "cell_type": "markdown",
   "metadata": {},
   "source": [
    "In order to complete this project, you should have completed the Pandas lessons in the <a href=\"https://www.codecademy.com/learn/paths/analyze-data-with-python\">Analyze Data with Python Skill Path</a>. You can also find those lessons in the <a href=\"https://www.codecademy.com/learn/data-processing-pandas\">Data Analysis with Pandas course</a> or the <a href=\"https://www.codecademy.com/learn/paths/data-science/\">Data Scientist Career Path</a>.\n",
    "\n",
    "Finally, the <a href=\"https://www.codecademy.com/learn/practical-data-cleaning\">Practical Data Cleaning</a> course may also be helpful."
   ]
  },
  {
   "cell_type": "markdown",
   "metadata": {},
   "source": [
    "## Project Requirements"
   ]
  },
  {
   "cell_type": "markdown",
   "metadata": {},
   "source": [
    "1. We've provided a csv file containing data about the game show _Jeopardy!_ in a file named `jeopardy.csv`. Load the data into a DataFrame and investigate its contents. Try to print out specific columns.\n",
    "\n",
    "   Note that in order to make this project as \"real-world\" as possible, we haven't modified the data at all - we're giving it to you exactly how we found it. As a result, this data isn't as \"clean\" as the datasets you normally find on Codecademy. More specifically, there's something odd about the column names. After you figure out the problem with the column names, you may want to rename them to make your life easier for the rest of the project.\n",
    "   \n",
    "   In order to display the full contents of a column, we've added this line of code for you:\n",
    "   \n",
    "   ```py\n",
    "   pd.set_option('display.max_colwidth', None)\n",
    "   ```"
   ]
  },
  {
   "cell_type": "code",
   "execution_count": 5,
   "metadata": {},
   "outputs": [
    {
     "name": "stdout",
     "output_type": "stream",
     "text": [
      "   Show Number    Air Date      Round                         Category  Value  \\\n",
      "0         4680  2004-12-31  Jeopardy!                          HISTORY   $200   \n",
      "1         4680  2004-12-31  Jeopardy!  ESPN's TOP 10 ALL-TIME ATHLETES   $200   \n",
      "2         4680  2004-12-31  Jeopardy!      EVERYBODY TALKS ABOUT IT...   $200   \n",
      "3         4680  2004-12-31  Jeopardy!                 THE COMPANY LINE   $200   \n",
      "4         4680  2004-12-31  Jeopardy!              EPITAPHS & TRIBUTES   $200   \n",
      "\n",
      "                                                                                                      Question  \\\n",
      "0             For the last 8 years of his life, Galileo was under house arrest for espousing this man's theory   \n",
      "1  No. 2: 1912 Olympian; football star at Carlisle Indian School; 6 MLB seasons with the Reds, Giants & Braves   \n",
      "2                     The city of Yuma in this state has a record average of 4,055 hours of sunshine each year   \n",
      "3                         In 1963, live on \"The Art Linkletter Show\", this company served its billionth burger   \n",
      "4     Signer of the Dec. of Indep., framer of the Constitution of Mass., second President of the United States   \n",
      "\n",
      "       Answer  \n",
      "0  Copernicus  \n",
      "1  Jim Thorpe  \n",
      "2     Arizona  \n",
      "3  McDonald's  \n",
      "4  John Adams  \n"
     ]
    }
   ],
   "source": [
    "import pandas as pd\n",
    "pd.set_option('display.max_colwidth', None)\n",
    "import numpy as np\n",
    "jeopardy = pd.read_csv('jeopardy.csv')\n",
    "print(jeopardy.head(5))"
   ]
  },
  {
   "cell_type": "markdown",
   "metadata": {},
   "source": [
    "2. Write a function that filters the dataset for questions that contains all of the words in a list of words. For example, when the list `[\"King\", \"England\"]` was passed to our function, the function returned a DataFrame of 49 rows. Every row had the strings `\"King\"` and `\"England\"` somewhere in its `\" Question\"`.\n",
    "\n",
    "   Test your function by printing out the column containing the question of each row of the dataset."
   ]
  },
  {
   "cell_type": "code",
   "execution_count": 23,
   "metadata": {},
   "outputs": [
    {
     "name": "stdout",
     "output_type": "stream",
     "text": [
      "Index(['show number', 'air date', 'round', 'category', 'value', 'question',\n",
      "       'answer', 'value_float'],\n",
      "      dtype='object')\n",
      "40        <a href=\"http://www.j-archive.com/media/2004-12-31_DJ_26.mp3\">Ripped from today's headlines, he was a turtle king gone mad; Mack was the one good turtle who'd bring him down</a>\n",
      "116                                                                                                                    She was born in Virginia around 1596 & died in Kent, England in 1617\n",
      "296                                                                                                On December 27, 1831 it departed Plymouth, England to map the coastline of South America\n",
      "386                                                                                                  The Tanglewood Music Festival is a summer highlight in Lenox in this New England state\n",
      "621                                                                                                                      Famous landmark composed of chalk in the county of Kent in England\n",
      "                                                                                                ...                                                                                        \n",
      "216550                                                                         You have to \"owe it\" to Oglethorpe; he wanted GA. to be a haven for men imprisoned for this crime in England\n",
      "216612                                                                                                                               Her 2 husbands were Uriah the Hittite & David the king\n",
      "216752                                                                         Upon signing his name in 1776 he said, \"There, King George will be able to read that without his spectacles\"\n",
      "216777                                                                   The first one of these tombs was built about 2650 B.C. by Imhotep for King Zoser & rose about 200 feet using steps\n",
      "216789                                                                                   This kingdom of England grew from 2 settlements, one founded around 495 by Cerdic & his son Cynric\n",
      "Name: question, Length: 2790, dtype: object\n"
     ]
    }
   ],
   "source": [
    "import pandas as pd\n",
    "jeopardy.rename(columns = lambda x: x.strip().lower(), inplace=True)\n",
    "print(jeopardy.columns)\n",
    "\n",
    "\n",
    "def is_in_question(df, words):\n",
    "    results = []\n",
    "    for index, row in df.iterrows():\n",
    "        question_words = set(row['question'].lower().split())\n",
    "        for word in words:\n",
    "            if word.lower() in question_words:\n",
    "                results.append(row)\n",
    "                break\n",
    "    return pd.DataFrame(results)\n",
    "\n",
    "result_df = is_in_question(jeopardy, ['King', 'England'])\n",
    "print(result_df['question'])"
   ]
  },
  {
   "cell_type": "markdown",
   "metadata": {},
   "source": [
    "3. Test your original function with a few different sets of words to try to find some ways your function breaks. Edit your function so it is more robust.\n",
    "\n",
    "   For example, think about capitalization. We probably want to find questions that contain the word `\"King\"` or `\"king\"`.\n",
    "   \n",
    "   You may also want to check to make sure you don't find rows that contain substrings of your given words. For example, our function found a question that didn't contain the word `\"king\"`, however it did contain the word `\"viking\"` &mdash; it found the `\"king\"` inside `\"viking\"`. Note that this also comes with some drawbacks &mdash; you would no longer find questions that contained words like `\"England's\"`."
   ]
  },
  {
   "cell_type": "code",
   "execution_count": 16,
   "metadata": {},
   "outputs": [
    {
     "name": "stdout",
     "output_type": "stream",
     "text": [
      "56                                                                                   It's the largest kingdom in the United Kingdom\n",
      "177                                                                           It's the kingdom whose flag is seen here (Union Jack)\n",
      "386                                          The Tanglewood Music Festival is a summer highlight in Lenox in this New England state\n",
      "935                                           Change 1 letter in \"protest\" to get this word for a protozoan & others in its kingdom\n",
      "1451                                            This West Lafayette, Indiana school's Hall of Music has seating for more than 6,000\n",
      "                                                                    ...                                                            \n",
      "216352                         Found under an old palace, the body of this last emperor of Ethiopia was moved to a tomb with a view\n",
      "216528                                        Since 1937 this world-famous tomb has been protected by an honor guard 24 hours a day\n",
      "216683                                               Put on some soft howling music during this season of the year when wolves mate\n",
      "216690    The shakuhachi, a Japanese flute made of this tall grass, is used as a tool for Buddhist meditation & many types of music\n",
      "216789                           This kingdom of England grew from 2 settlements, one founded around 495 by Cerdic & his son Cynric\n",
      "Name: question, Length: 1596, dtype: object\n"
     ]
    }
   ],
   "source": [
    "import re\n",
    "\n",
    "def is_in_question_2(df, words):\n",
    "    results = []\n",
    "    for index, row in df.iterrows():\n",
    "        # Remove special characters and split the words\n",
    "        question_words = set(re.sub(r'\\W+', ' ', row['question']).lower().split())\n",
    "        \n",
    "        for word in words:\n",
    "            # Check both lowercase and capitalized versions of the word\n",
    "            if word.lower() in question_words or word.capitalize() in question_words:\n",
    "                results.append(row)\n",
    "                break\n",
    "    return pd.DataFrame(results)\n",
    "\n",
    "result_df = is_in_question_2(jeopardy, ['music', 'tomb', 'kingdom'])\n",
    "print(result_df['question'])"
   ]
  },
  {
   "cell_type": "markdown",
   "metadata": {},
   "source": [
    "4. We may want to eventually compute aggregate statistics, like `.mean()` on the `\" Value\"` column. But right now, the values in that column are strings. Convert the`\" Value\"` column to floats. If you'd like to, you can create a new column with float values.\n",
    "\n",
    "   While most of the values in the `\" Value\"` column represent a dollar amount as a string, note that some do not &mdash; these values will need to be handled differently!\n",
    "\n",
    "   Now that you can filter the dataset of question, use your new column that contains the float values of each question to find the \"difficulty\" of certain topics. For example, what is the average value of questions that contain the word `\"King\"`?\n",
    "   \n",
    "   Make sure to use the dataset that contains the float values as the dataset you use in your filtering function."
   ]
  },
  {
   "cell_type": "code",
   "execution_count": 18,
   "metadata": {},
   "outputs": [
    {
     "name": "stdout",
     "output_type": "stream",
     "text": [
      "739.9884755451067\n"
     ]
    }
   ],
   "source": [
    "jeopardy['value_float'] = jeopardy['value'].apply(lambda x: float(x[1:].replace(',', '')) if x.startswith('$') else 0)\n",
    "print(jeopardy['value_float'].mean())"
   ]
  },
  {
   "cell_type": "markdown",
   "metadata": {},
   "source": [
    "5. Write a function that returns the count of unique answers to all of the questions in a dataset. For example, after filtering the entire dataset to only questions containing the word `\"King\"`, we could then find all of the unique answers to those questions. The answer \"Henry VIII\" appeared 55 times and was the most common answer."
   ]
  },
  {
   "cell_type": "code",
   "execution_count": 20,
   "metadata": {},
   "outputs": [
    {
     "name": "stdout",
     "output_type": "stream",
     "text": [
      "5268\n"
     ]
    }
   ],
   "source": [
    "def unique_count(df, word):\n",
    "    return df[df['question'].str.contains(word, case=False)]['answer'].nunique()\n",
    "print(unique_count(jeopardy, 'King'))"
   ]
  },
  {
   "cell_type": "markdown",
   "metadata": {},
   "source": [
    "6. Explore from here! This is an incredibly rich dataset, and there are so many interesting things to discover. There are a few columns that we haven't even started looking at yet. Here are some ideas on ways to continue working with this data:\n",
    "\n",
    " * Investigate the ways in which questions change over time by filtering by the date. How many questions from the 90s use the word `\"Computer\"` compared to questions from the 2000s?\n",
    " * Is there a connection between the round and the category? Are you more likely to find certain categories, like `\"Literature\"` in Single Jeopardy or Double Jeopardy?\n",
    " * Build a system to quiz yourself. Grab random questions, and use the <a href=\"https://docs.python.org/3/library/functions.html#input\">input</a> function to get a response from the user. Check to see if that response was right or wrong."
   ]
  },
  {
   "cell_type": "code",
   "execution_count": 32,
   "metadata": {},
   "outputs": [
    {
     "name": "stdout",
     "output_type": "stream",
     "text": [
      "768\n",
      "-------------------------------\n",
      "round                        Double Jeopardy!  Final Jeopardy!  Jeopardy!  \\\n",
      "category                                                                    \n",
      " A JIM CARREY FILM FESTIVAL                 0                0          5   \n",
      "\"!\"                                         0                0          5   \n",
      "\"-ARES\"                                     5                0          0   \n",
      "\"-ICIAN\" EXPEDITION                         0                0          5   \n",
      "\"...OD\" WORDS                               5                0          0   \n",
      "...                                       ...              ...        ...   \n",
      "“R” MOVIES                                  5                0          0   \n",
      "“SAINTS”                                    4                0          0   \n",
      "“SOUTH”                                     5                0          0   \n",
      "“STREETS”                                   0                0          5   \n",
      "“WH”AT IS IT?                               5                0          0   \n",
      "\n",
      "round                        Tiebreaker  \n",
      "category                                 \n",
      " A JIM CARREY FILM FESTIVAL           0  \n",
      "\"!\"                                   0  \n",
      "\"-ARES\"                               0  \n",
      "\"-ICIAN\" EXPEDITION                   0  \n",
      "\"...OD\" WORDS                         0  \n",
      "...                                 ...  \n",
      "“R” MOVIES                            0  \n",
      "“SAINTS”                              0  \n",
      "“SOUTH”                               0  \n",
      "“STREETS”                             0  \n",
      "“WH”AT IS IT?                         0  \n",
      "\n",
      "[27995 rows x 4 columns]\n"
     ]
    }
   ],
   "source": [
    "def unique_count_90s(df, word): #counts number of questions containing a given word for air date in the 90s\n",
    "    return df[(df['question'].str.contains(word, case=False)) & (df['air date'].str.startswith('199'))]['question'].nunique()\n",
    "print(unique_count_90s(jeopardy, 'home'))\n",
    "print(\"-------------------------------\")\n",
    "#Category in Round Pivot Table\n",
    "# def category_in_round(df):   \n",
    "#     return df.groupby(['round', 'category']).size().unstack('round', fill_value=0)\n",
    "\n",
    "def category_counts(df, category):\n",
    "    category_counts = df[df['category'] == category].groupby('round').size()\n",
    "    category_counts_df = pd.DataFrame(category_counts, columns=[category])\n",
    "    return category_counts_df\n",
    "\n",
    "# Example usage:\n",
    "category_counts(jeopardy, 'HISTORY')\n",
    "\n",
    "\n",
    "print(category_in_round(jeopardy))\n",
    "\n",
    "\n"
   ]
  },
  {
   "cell_type": "markdown",
   "metadata": {},
   "source": [
    "Quiz Function\n"
   ]
  },
  {
   "cell_type": "code",
   "execution_count": null,
   "metadata": {},
   "outputs": [],
   "source": [
    "import random\n",
    "\n",
    "def play_jeopardy_game(df):\n",
    "    categories = df['category'].unique()\n",
    "    play_again = True\n",
    "    \n",
    "    while play_again:\n",
    "        print(\"Choose a category:\")\n",
    "        for i, category in enumerate(categories):\n",
    "            print(f\"{i+1}. {category}\")\n",
    "        \n",
    "        category_choice = int(input(\"Enter the number of the category: \")) - 1\n",
    "        selected_category = categories[category_choice]\n",
    "        \n",
    "        questions = df[df['category'] == selected_category]['question']\n",
    "        values = df[df['category'] == selected_category]['value']\n",
    "        \n",
    "        print(\"Choose a value:\")\n",
    "        for i, value in enumerate(values):\n",
    "            print(f\"{i+1}. {value}\")\n",
    "        \n",
    "        value_choice = int(input(\"Enter the number of the value: \")) - 1\n",
    "        selected_question = questions.iloc[value_choice]\n",
    "        selected_answer = df[(df['category'] == selected_category) & (df['question'] == selected_question)]['answer'].iloc[0]\n",
    "        \n",
    "        print(f\"\\nQuestion: {selected_question}\")\n",
    "        user_answer = input(\"Your answer: \")\n",
    "        \n",
    "        if user_answer.lower() == selected_answer.lower():\n",
    "            print(\"Correct!\")\n",
    "        else:\n",
    "            print(f\"Incorrect! The correct answer is: {selected_answer}\")\n",
    "        \n",
    "        play_again_input = input(\"Would you like to play again? (yes/no): \")\n",
    "\n"
   ]
  },
  {
   "cell_type": "markdown",
   "metadata": {},
   "source": [
    "## Solution"
   ]
  },
  {
   "cell_type": "markdown",
   "metadata": {},
   "source": [
    "7. Compare your program to our <a href=\"https://content.codecademy.com/PRO/independent-practice-projects/jeopardy/jeopardy_solution.zip\">sample solution code</a> - remember, that your program might look different from ours (and probably will) and that's okay!"
   ]
  },
  {
   "cell_type": "markdown",
   "metadata": {},
   "source": [
    "8. Great work! Visit <a href=\"https://discuss.codecademy.com/t/this-is-jeopardy-challenge-project-python-pandas/462365\">our forums</a> to compare your project to our sample solution code. You can also learn how to host your own solution on GitHub so you can share it with other learners! Your solution might look different from ours, and that's okay! There are multiple ways to solve these projects, and you'll learn more by seeing others' code."
   ]
  },
  {
   "cell_type": "code",
   "execution_count": null,
   "metadata": {},
   "outputs": [],
   "source": []
  }
 ],
 "metadata": {
  "kernelspec": {
   "display_name": "Python 3 (ipykernel)",
   "language": "python",
   "name": "python3"
  },
  "language_info": {
   "codemirror_mode": {
    "name": "ipython",
    "version": 3
   },
   "file_extension": ".py",
   "mimetype": "text/x-python",
   "name": "python",
   "nbconvert_exporter": "python",
   "pygments_lexer": "ipython3",
   "version": "3.11.8"
  }
 },
 "nbformat": 4,
 "nbformat_minor": 2
}
